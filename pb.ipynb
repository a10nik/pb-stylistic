{
 "cells": [
  {
   "cell_type": "code",
   "execution_count": 58,
   "metadata": {},
   "outputs": [],
   "source": [
    "import codecs\n",
    "import re\n",
    "import nltk\n",
    "import collections\n",
    "import numpy\n",
    "import subprocess\n",
    "import json\n",
    "import multiprocessing\n",
    "import os\n",
    "import gc\n",
    "import sklearn"
   ]
  },
  {
   "cell_type": "code",
   "execution_count": 5,
   "metadata": {
    "collapsed": true
   },
   "outputs": [],
   "source": [
    "letters_regex = re.compile(r'[а-яА-ЯёЁ]+')\n",
    "def has_letter(s):\n",
    "    return letters_regex.match(s)"
   ]
  },
  {
   "cell_type": "code",
   "execution_count": 6,
   "metadata": {
    "collapsed": true
   },
   "outputs": [],
   "source": [
    "def mystem_analyze(text):\n",
    "    p = subprocess.Popen([\"mystem\", \"--format=json\", \"-nigfcsd\"],\n",
    "                         stdin=subprocess.PIPE,\n",
    "                         stdout=subprocess.PIPE,\n",
    "                         stderr=subprocess.PIPE)\n",
    "    stdout, stderr = p.communicate(text.encode('utf-8'))\n",
    "    res_str = stdout.decode('utf-8')\n",
    "    return json.loads('[%s]' % (\",\".join(res_str.splitlines())))\n"
   ]
  },
  {
   "cell_type": "code",
   "execution_count": 7,
   "metadata": {
    "collapsed": true
   },
   "outputs": [],
   "source": [
    "def split_by_sentence_marker(analysis):\n",
    "    last = 0\n",
    "    for i, a in enumerate(analysis):\n",
    "        if a['text'] == '\\\\s':\n",
    "            yield analysis[last:i]\n",
    "            last = i + 1\n",
    "    if analysis[last:]:\n",
    "        yield analysis[last:]\n"
   ]
  },
  {
   "cell_type": "code",
   "execution_count": 44,
   "metadata": {
    "scrolled": true
   },
   "outputs": [],
   "source": [
    "TextFeatures = collections.namedtuple('TextFeatures', 'avg_words_in_sentence avg_word_length rel_voc_size rel_hapax_legomena_count rel_pos_count rel_char_count rel_common_word_count')\n",
    "\n",
    "def char_range(start, end):\n",
    "    return [chr(char) for char in range(ord(start), ord(end) + 1)]\n",
    "\n",
    "mystem_pos = ['A', 'ADV', 'ADVPRO', 'ANUM', 'APRO', 'COM', 'CONJ', 'INTJ', 'NUM', 'PART', 'PR', 'S', 'SPRO', 'V']\n",
    "alpha_chars = char_range('а', 'я') + char_range('А', 'Я') + ['ё', 'Ё']\n",
    "num_chars = char_range('0', '9')\n",
    "punct_chars = list(',.?!-:;\"\\'')\n",
    "most_freq_words = ['и', 'в', 'не', 'он', 'на', 'я', 'что', 'тот', 'быть', 'с', 'а', 'весь', 'это', 'как', 'она', 'по', 'но', 'они', 'к', 'у', 'ты', 'из', 'мы', 'за', 'вы', 'так', 'же', 'от', 'сказать', 'этот', 'который', 'мочь', 'человек', 'о', 'один', 'еще', 'бы', 'такой', 'только', 'себя', 'свое', 'какой', 'когда', 'уже', 'для', 'вот', 'кто', 'да', 'говорить', 'год', 'знать', 'мой', 'до', 'или', 'если', 'время', 'рука', 'нет', 'самый', 'ни', 'стать', 'большой', 'даже', 'другой', 'наш', 'свой', 'ну', 'под', 'где', 'дело', 'есть', 'сам', 'раз', 'чтобы', 'два', 'там', 'чем', 'глаз', 'жизнь', 'первый', 'день', 'тута', 'во', 'ничто', 'потом', 'очень', 'со', 'хотеть', 'ли', 'при', 'голова', 'надо', 'без', 'видеть', 'идти', 'теперь', 'тоже', 'стоять', 'друг', 'дом']\n",
    "\n",
    "def get_features(analysis):\n",
    "    words = [w for w in analysis if w.get('analysis')]\n",
    "    text = \"\".join([w[\"text\"] for w in analysis])\n",
    "    sents = list(split_by_sentence_marker(analysis))\n",
    "    words_of_sents = [[w for w in s if w.get('analysis')] for s in sents]\n",
    "    lemme_count = collections.Counter([w['analysis'][0]['lex'] for w in words])\n",
    "    char_count = collections.Counter(text)\n",
    "    \n",
    "    avg_words_in_sentence = numpy.average([len(sent) for sent in words_of_sents])\n",
    "    word_count = len(words)\n",
    "    avg_word_length = word_count / len(words)\n",
    "    rel_voc_size = len(lemme_count) / word_count\n",
    "    rel_hapax_legomena_count = len([w for w in lemme_count if lemme_count[w] == 1]) / word_count\n",
    "    pos_count = collections.Counter(re.split('[,=()]', w['analysis'][0]['gr'])[0] for w in words)\n",
    "    rel_pos_count = [pos_count[p] / word_count for p in mystem_pos]\n",
    "    rel_char_count = [char_count[c] / len(text) for c in alpha_chars + num_chars + punct_chars]\n",
    "    rel_common_word_count = [lemme_count[w] / word_count for w in most_freq_words]\n",
    "    return TextFeatures(\n",
    "        avg_words_in_sentence=avg_words_in_sentence,\n",
    "        avg_word_length=avg_word_length,\n",
    "        rel_voc_size=rel_voc_size,\n",
    "        rel_hapax_legomena_count=rel_hapax_legomena_count,\n",
    "        rel_pos_count=rel_pos_count,\n",
    "        rel_char_count=rel_char_count,\n",
    "        rel_common_word_count=rel_common_word_count\n",
    "    )\n",
    "    "
   ]
  },
  {
   "cell_type": "code",
   "execution_count": 41,
   "metadata": {},
   "outputs": [],
   "source": [
    "def get_vector(f):\n",
    "    return numpy.array([f.avg_words_in_sentence, f.avg_word_length, f.rel_voc_size, f.rel_hapax_legomena_count] +\n",
    "        f.rel_pos_count + f.rel_char_count + f.rel_common_word_count)"
   ]
  },
  {
   "cell_type": "code",
   "execution_count": null,
   "metadata": {
    "collapsed": true
   },
   "outputs": [],
   "source": [
    "def get_features_from_file(file):\n",
    "    print(file)\n",
    "    with codecs.open(file, encoding='utf-8') as f:\n",
    "        content = f.read()\n",
    "        analysis = [json.loads(l) for l in content.splitlines()]\n",
    "        return get_features(analysis)\n",
    "\n",
    "features = [get_features_from_file(os.path.join(\"json\", file)) for file in os.listdir(\"json\")]"
   ]
  },
  {
   "cell_type": "code",
   "execution_count": 46,
   "metadata": {},
   "outputs": [
    {
     "data": {
      "text/plain": [
       "['Aleksievich_Golosa-Utopii_1_U-voyny-ne-zhenskoe-lico-.VNQLMg.70938.fb2.txt.json',\n",
       " 'Aleksievich_Golosa-Utopii_3_Cinkovye-malchiki.NVa1uw.427115.fb2.txt.json',\n",
       " 'Aleksievich_Golosa-Utopii_5_Vremya-sekond-hend.9FJziw.426019.fb2.txt.json',\n",
       " 'Aleksin_Anatoliy-Aleksin-Sobranie-sochineniy-v-treh-tomah_1_Bezumnaya-Evdokiya.gkQ47w.347944.fb2.txt.json',\n",
       " 'Aleksin_Moy-brat-igraet-na-klarnete.oGHedw.1061.fb2.txt.json',\n",
       " 'Aleksin_Pozdniy-rebenok.pCeYeQ.1068.fb2.txt.json',\n",
       " 'Aleksin_Razdel-imushchestva.qgz_cw.1070.fb2.txt.json',\n",
       " 'Aleksin_Zdorovye-i-bolnye.FJTSAw.122412.fb2.txt.json',\n",
       " 'Andreev_Angelochek.b_uQkA.125257.fb2.txt.json',\n",
       " 'Andreev_Daniil-Andreev-Sobranie-sochineniy-v-4-tomah_2_Zheleznaya-misteriya.r42e2Q.187978.fb2.txt.json',\n",
       " 'Andreev_Iuda-Iskariot.xLnnCQ.288557.fb2.txt.json',\n",
       " 'Andreev_Krasnyy-smeh.X1Y_9Q.65864.fb2.txt.json',\n",
       " 'Andreev_Rasskaz-o-semi-poveshennyh.1L2XlQ.65888.fb2.txt.json',\n",
       " 'Andreev_Roza-Mira.QoAqJg.245158.fb2.txt.json',\n",
       " 'Andreev_Zhizn-Vasiliya-Fiveyskogo.w95XsA.70850.fb2.txt.json',\n",
       " 'Astafev_Astafev-V-P-Sobranie-sochineniy_6_Car-ryba.5R6pfQ.378886.fb2.txt.json',\n",
       " 'Astafev_Pechalnyy-detektiv.ZE6iSA.2714.fb2.txt.json',\n",
       " 'Astafev_Zvezdopad.wFqiSA.132240.fb2.txt.json',\n",
       " 'Averchenko_Podhodcev-i-dvoe-drugih.uidJvg.159231.fb2.txt.json',\n",
       " 'Averchenko_Razumnaya-ekonomiya.AzfKMQ.417321.fb2.txt.json',\n",
       " 'Averchenko_Shutka-mecenata.Tdzcvw.159241.fb2.txt.json',\n",
       " 'Bazhov_Malahitovaya-shkatulka-Uralskie-skazy_20_Sinyushkin-kolodec.LjKmdg.373851.fb2.txt.json',\n",
       " 'Bazhov_Mednoy-gory-hozyayka.S2MSYw.143109.fb2.txt.json',\n",
       " 'Belov_Plotnickie-rasskazy.8_wYng.203086.fb2.txt.json',\n",
       " 'Belov_Privychnoe-delo.sZNFWw.158230.fb2.txt.json',\n",
       " 'Belov_Vse-vperedi.lcSc1g.315732.fb2.txt.json',\n",
       " 'Bitov_Prepodavatel-simmetrii.myq3hA.383719.fb2.txt.json',\n",
       " 'Bitov_Pushkinskiy-Dom._PR-6A.246296.fb2.txt.json',\n",
       " 'Bondarev_Bereg.qE7ZrA.472356.fb2.txt.json',\n",
       " 'Bondarev_Goryachiy-sneg.rA-GCg.276869.fb2.txt.json',\n",
       " 'Bondarev_Poslednie-zalpy.bX6XhA.468939.fb2.txt.json',\n",
       " 'Bulgakov_Belaya-gvardiya_1_Belaya-gvardiya.Rgu96w.261423.fb2.txt.json',\n",
       " 'Bulgakov_Rokovye-yayca.qhn9-w.66373.fb2.txt.json',\n",
       " 'Bulgakov_Sobache-serdce.EV5sSQ.102112.fb2.txt.json',\n",
       " 'Bulgakov_Zapiski-pokoynika_3_Teatralnyy-roman.3mpwJw.169333.fb2.txt.json',\n",
       " 'Bunin_Antonovskie-yabloki.tAKTSA.168440.fb2.txt.json',\n",
       " 'Bunin_Derevnya.SFR3Xw.168499.fb2.txt.json',\n",
       " 'Bunin_Mitina-lyubov.53CEtw.9807.fb2.txt.json',\n",
       " 'Bunin_Suhodol.vMRL8Q.168511.fb2.txt.json',\n",
       " 'Bunin_Zhizn-Arseneva.QDqGYQ.61787.fb2.txt.json',\n",
       " 'Bykov_Iks.htz4qg.299188.fb2.txt.json',\n",
       " 'Bykov_Opravdanie.sxqHSA.113370.fb2.txt.json',\n",
       " 'Bykov_Orfografiya.4fQaFQ.113372.fb2.txt.json',\n",
       " 'Bykov_Ostromov-ili-Uchenik-charodeya.YpyxHA.226611.fb2.txt.json',\n",
       " 'Dobychin_Gorod-En.foh6Mg.168496.fb2.txt.json',\n",
       " 'Dobychin_Kozlova.ykXHiQ.168474.fb2.txt.json',\n",
       " 'Dobychin_Vstrechi-s-Liz.Zdxp8w.168475.fb2.txt.json',\n",
       " 'Dombrovskiy_Fakultet-nenuzhnyh-veshchey.0mok_g.13578.fb2.txt.json',\n",
       " 'Dombrovskiy_Hranitel-drevnostey.yOwBHw.245162.fb2.txt.json',\n",
       " 'Dombrovskiy_Obezyana-prihodit-za-svoim-cherepom.u2hrVg.221879.fb2.txt.json',\n",
       " 'Dostoevskiy_Besy.Th837Q.169991.fb2.txt.json',\n",
       " 'Dostoevskiy_Biblioteka-vsemirnoy-literatury-Hudozhestvennaya-literatura-_84_Bratya-Karamazovy.wXXS5g.492702.fb2.txt.json',\n",
       " 'Dostoevskiy_Idiot.inlRNw.72596.fb2.txt.json',\n",
       " 'Dostoevskiy_Podrostok.PWjhcg.72594.fb2.txt.json',\n",
       " 'Dovlatov_Filial.FAqqXw.348800.fb2.txt.json',\n",
       " 'Dovlatov_Inostranka.xmbRYA.348601.fb2.txt.json',\n",
       " 'Dovlatov_S-Dovlatov-Sobranie-sochineniy-v-3-tomah_1_Zona-Zapiski-nadziratelya.S7aTGw.348600.fb2.txt.json',\n",
       " 'Dovlatov_Zapovednik.lUFa_A.348602.fb2.txt.json',\n",
       " 'Dragunskiy_Segodnya-i-ezhednevno.sU84WA.413386.fb2.txt.json',\n",
       " 'Dudincev_Belye-odezhdy.hYHuxQ.365436.fb2.txt.json',\n",
       " 'Dudincev_Ne-hlebom-edinym.CCAP-A.105764.fb2.txt.json',\n",
       " 'Dudincev_Novogodnyaya-skazka.OArvQA.372308.fb2.txt.json',\n",
       " 'Efremov_Velike-Kilce_1_Tumannist-Andromedi.154989.fb2.txt.json',\n",
       " 'Erofeev_Moskva-Petushki.0ZnQUQ.282345.fb2.txt.json',\n",
       " 'Erofeev_Zapiski-psihopata.Naur2Q.15832.fb2.txt.json',\n",
       " 'Garin-Mihaylovskiy_Detstvo-Tyomy.OfuzJA.168603.fb2.txt.json',\n",
       " 'Garin-Mihaylovskiy_Gimnazisty.g1ZeiA.168605.fb2.txt.json',\n",
       " 'Garin-Mihaylovskiy_Semeynaya-hronika_3_Studenty.KmYs5g.18173.fb2.txt.json',\n",
       " 'Garin-Mihaylovskiy_Semeynaya-hronika_4_Inzhenery.AKzBxw.18170.fb2.txt.json',\n",
       " 'Garshin_Krasnyy-cvetok.8-yRsg.149352.fb2.txt.json',\n",
       " 'Garshin_Ochen-korotenkiy-roman.FbChYg.410779.fb2.txt.json',\n",
       " 'Garshin_Trus.zYfxuQ.149355.fb2.txt.json',\n",
       " 'Gaydar_Biblioteka-pionera-Izdanie-1-1961-1964-gg-_1_Timur-i-ego-komanda.rve13g.103588.fb2.txt.json',\n",
       " 'Gaydar_Biblioteka-pionera-Izdanie-1-1961-1964-gg-_1_Voennaya-tayna.MCFKWA.153134.fb2.txt.json',\n",
       " 'Gaydar_Chuk-i-Gek.e_Xjbw.115826.fb2.txt.json',\n",
       " 'Gaydar_Golubaya-chashka.-XXvtA.17600.fb2.txt.json',\n",
       " 'Gaydar_V-dni-porazheniy-i-pobed.WTLzHQ.169075.fb2.txt.json',\n",
       " 'Gelasimov_Holod.VAvNKA.399576.fb2.txt.json',\n",
       " 'Gladkov_Cement.JcptEg.204613.fb2.txt.json',\n",
       " 'Gladkov_Povest-o-detstve_3_Lihaya-godina.amf6kA.334920.fb2.txt.json',\n",
       " 'Gogol_Mertvye-dushi.b_xm6g.102645.fb2.txt.json',\n",
       " 'Gogol_Mirgorod_3_Viy.JV-38g.74285.fb2.txt.json',\n",
       " 'Gogol_Nos.yMKAWA.96412.fb2.txt.json',\n",
       " 'Goncharov_Obryv.pyXIjw.74105.fb2.txt.json',\n",
       " 'Goncharov_Obyknovennaya-istoriya.fyJm1A.173116.fb2.txt.json',\n",
       " 'Granin_Eshche-zameten-sled.qk5PRw.149025.fb2.txt.json',\n",
       " 'Granin_Idu-na-grozu.rC7RHg.20476.fb2.txt.json',\n",
       " 'Granin_Iskateli.bhevgw.126139.fb2.txt.json',\n",
       " 'Granin_Kartina.pp67Hg.20477.fb2.txt.json',\n",
       " 'Granin_Nash-dorogoy-Roman-Avdeevich.mi15NA.490942.fb2.txt.json',\n",
       " 'Iskander_Kroliki-i-udavy.zk4xWA.70498.fb2.txt.json',\n",
       " 'Iskander_Sandro-iz-Chegema.1nMzkQ.273618.fb2.txt.json',\n",
       " 'Iskander_Sozvezdie-Kozlotura.LfWWBg.156514.fb2.txt.json',\n",
       " 'Kabakov_Posledniy-geroy.NUzPXw.24695.fb2.txt.json',\n",
       " 'Kabakov_Sochinitel.t8Swbg.24698.fb2.txt.json',\n",
       " 'Kassil_Budte-gotovy-Vashe-vysochestvo.ijK3qQ.68319.fb2.txt.json',\n",
       " 'Kassil_Konduit-i-Shvambraniya.K8q9xg.68317.fb2.txt.json',\n",
       " 'Kataev_Volny-Chernogo-morya_1_Beleet-parus-odinokiy.-hEs7Q.160794.fb2.txt.json',\n",
       " 'Kaverin_Dva-kapitana.qh2Zmg.68345.fb2.txt.json',\n",
       " 'Kaverin_Kosoy-dozhd.YsAsMw.395365.fb2.txt.json',\n",
       " 'Kaverin_Otkrytaya-kniga.eUgdOw.68344.fb2.txt.json',\n",
       " 'Kaverin_Sem-par-nechistyh.AOpU0A.462679.fb2.txt.json',\n",
       " 'Kazakevich_Dom-na-ploshchadi.vks9eQ.410107.fb2.txt.json',\n",
       " 'Kazakevich_Vesna-na-Odere.jIk1VQ.410084.fb2.txt.json',\n",
       " 'Korolenko_Korolenko-V-G-Sobranie-sochineniy-v-desyati-tomah_2_V-durnom-obshchestve.XOdJSQ.218025.fb2.txt.json',\n",
       " 'Korolenko_Slepoy-muzykant.NCRf8g.28799.fb2.txt.json',\n",
       " 'Korolenko_Son-Makara.w0uUFg.28801.fb2.txt.json',\n",
       " 'Kuprin_Granatovyy-braslet.xcUDrA.67550.fb2.txt.json',\n",
       " 'Kuprin_Moloh.6e0k5g.149214.fb2.txt.json',\n",
       " 'Kuprin_Olesya.cmZ5qA.67536.fb2.txt.json',\n",
       " 'Kuprin_Poedinok.tCTh6w.103387.fb2.txt.json',\n",
       " 'Lazhechnikov_Ledyanoy-dom.ybC72A.388207.fb2.txt.json',\n",
       " 'Leskov_Soboryane.2SLdjA.168624.fb2.txt.json',\n",
       " 'Limonov_Eto-ya-Edichka.lXxadA.69716.fb2.txt.json',\n",
       " 'Limonov_Harkovskaya-trilogiya_1_U-nas-byla-velikaya-epoha.hTwLRg.111375.fb2.txt.json',\n",
       " 'Limonov_Palach.SjJA3A.114299.fb2.txt.json',\n",
       " 'Makanin_Andegraund-ili-Geroy-nashego-vremeni.86lcTA.69159.fb2.txt.json',\n",
       " 'Makanin_Asan.SZxb4g.250335.fb2.txt.json',\n",
       " 'Makanin_Dve-sestry-i-Kandinskiy.rS2_lA.229998.fb2.txt.json',\n",
       " 'Makarenko_Chest.9ySF7g.230081.fb2.txt.json',\n",
       " 'Makarenko_Pedagogicheskaya-poema.E2ambg.69167.fb2.txt.json',\n",
       " 'Vasilev_A-zori-zdes-tihie-.grS3Nw.405674.fb2.txt.json',\n",
       " 'Vasilev_Ne-strelyayte-belyh-lebedey.xCv3lQ.58521.fb2.txt.json',\n",
       " 'Vasilev_V-spiskah-ne-znachilsya.aAjQBw.315588.fb2.txt.json',\n",
       " 'Vasilev_Vstrechnyy-boy.Sv0wFg.74066.fb2.txt.json',\n",
       " 'Vasilev_Zavtra-byla-voyna.wkqZ1A.407551.fb2.txt.json',\n",
       " 'Veller_Zhestokiy.Bk-BIQ.383204.fb2.txt.json',\n",
       " 'Vodolazkin_Aviator.9JpD7Q.449077.fb2.txt.json',\n",
       " 'Vodolazkin_Lavr.fga7xw.310583.fb2.txt.json',\n",
       " 'Voynovich_Dva-tovarishcha.CbrmrA.132988.fb2.txt.json',\n",
       " 'Zamyatin_Lovec-chelovekov.OBpTnw.182586.fb2.txt.json',\n",
       " 'Zamyatin_My.mgC6Xg.182584.fb2.txt.json',\n",
       " 'Zamyatin_Peshchera.qUg7OA.182566.fb2.txt.json']"
      ]
     },
     "execution_count": 46,
     "metadata": {},
     "output_type": "execute_result"
    }
   ],
   "source": [
    "os.listdir(\"json\")"
   ]
  },
  {
   "cell_type": "code",
   "execution_count": 69,
   "metadata": {},
   "outputs": [
    {
     "data": {
      "text/plain": [
       "odict_keys(['avg_words_in_sentence', 'avg_word_length', 'rel_voc_size', 'rel_hapax_legomena_count', 'rel_pos_count', 'rel_char_count', 'rel_common_word_count'])"
      ]
     },
     "execution_count": 69,
     "metadata": {},
     "output_type": "execute_result"
    }
   ],
   "source": [
    "features[0]._asdict().keys()"
   ]
  },
  {
   "cell_type": "code",
   "execution_count": 59,
   "metadata": {
    "collapsed": true
   },
   "outputs": [],
   "source": [
    "feature_matrix = numpy.array([get_vector(f) for f in features])\n",
    "scaled_feature_matrix = sklearn.preprocessing.scale(feature_matrix)"
   ]
  },
  {
   "cell_type": "code",
   "execution_count": 70,
   "metadata": {},
   "outputs": [
    {
     "data": {
      "text/plain": [
       "(133, 203)"
      ]
     },
     "execution_count": 70,
     "metadata": {},
     "output_type": "execute_result"
    }
   ],
   "source": [
    "numpy.shape(scaled_feature_matrix)"
   ]
  }
 ],
 "metadata": {
  "kernelspec": {
   "display_name": "Python 3",
   "language": "python",
   "name": "python3"
  },
  "language_info": {
   "codemirror_mode": {
    "name": "ipython",
    "version": 3
   },
   "file_extension": ".py",
   "mimetype": "text/x-python",
   "name": "python",
   "nbconvert_exporter": "python",
   "pygments_lexer": "ipython3",
   "version": "3.6.2"
  }
 },
 "nbformat": 4,
 "nbformat_minor": 2
}
