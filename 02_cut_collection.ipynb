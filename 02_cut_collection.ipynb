{
 "cells": [
  {
   "cell_type": "code",
   "execution_count": 1,
   "metadata": {},
   "outputs": [],
   "source": [
    "import os"
   ]
  },
  {
   "cell_type": "code",
   "execution_count": 2,
   "metadata": {},
   "outputs": [],
   "source": [
    "dir_in = 'txt'\n",
    "dir_out = 'txt_cut'\n",
    "MIN_SIZE = 14000\n",
    "MAX_SIZE = 60000\n",
    "\n",
    "if not os.path.exists(dir_out):\n",
    "    os.makedirs(dir_out)"
   ]
  },
  {
   "cell_type": "code",
   "execution_count": 3,
   "metadata": {},
   "outputs": [],
   "source": [
    "for filename in sorted(os.listdir(dir_in)):\n",
    "    with open(os.path.join(dir_in, filename), 'r') as book:\n",
    "        content = [book.read(MAX_SIZE)]\n",
    "        next_char = book.read(1)\n",
    "        while next_char.isalpha():\n",
    "            content.append(next_char)\n",
    "            next_char = book.read(1)\n",
    "        content = ''.join(content)\n",
    "        if len(content) < MIN_SIZE:\n",
    "            continue\n",
    "    with open(os.path.join(dir_out, filename), 'w') as book:\n",
    "        book.write(content)\n",
    "        "
   ]
  },
  {
   "cell_type": "code",
   "execution_count": null,
   "metadata": {},
   "outputs": [],
   "source": []
  }
 ],
 "metadata": {
  "kernelspec": {
   "display_name": "Python 3",
   "language": "python",
   "name": "python3"
  },
  "language_info": {
   "codemirror_mode": {
    "name": "ipython",
    "version": 3
   },
   "file_extension": ".py",
   "mimetype": "text/x-python",
   "name": "python",
   "nbconvert_exporter": "python",
   "pygments_lexer": "ipython3",
   "version": "3.7.0"
  }
 },
 "nbformat": 4,
 "nbformat_minor": 2
}
